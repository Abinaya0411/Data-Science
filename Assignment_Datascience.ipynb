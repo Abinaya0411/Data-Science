{
 "cells": [
  {
   "cell_type": "code",
   "execution_count": 1,
   "id": "d3c54733",
   "metadata": {},
   "outputs": [],
   "source": [
    "import pandas as pd"
   ]
  },
  {
   "cell_type": "code",
   "execution_count": 2,
   "id": "5f224e73",
   "metadata": {},
   "outputs": [],
   "source": [
    "dataset=pd.read_csv(\"Placement.csv\")"
   ]
  },
  {
   "cell_type": "code",
   "execution_count": 3,
   "id": "00e230ed",
   "metadata": {},
   "outputs": [
    {
     "data": {
      "text/html": [
       "<div>\n",
       "<style scoped>\n",
       "    .dataframe tbody tr th:only-of-type {\n",
       "        vertical-align: middle;\n",
       "    }\n",
       "\n",
       "    .dataframe tbody tr th {\n",
       "        vertical-align: top;\n",
       "    }\n",
       "\n",
       "    .dataframe thead th {\n",
       "        text-align: right;\n",
       "    }\n",
       "</style>\n",
       "<table border=\"1\" class=\"dataframe\">\n",
       "  <thead>\n",
       "    <tr style=\"text-align: right;\">\n",
       "      <th></th>\n",
       "      <th>sl_no</th>\n",
       "      <th>gender</th>\n",
       "      <th>ssc_p</th>\n",
       "      <th>ssc_b</th>\n",
       "      <th>hsc_p</th>\n",
       "      <th>hsc_b</th>\n",
       "      <th>hsc_s</th>\n",
       "      <th>degree_p</th>\n",
       "      <th>degree_t</th>\n",
       "      <th>workex</th>\n",
       "      <th>etest_p</th>\n",
       "      <th>specialisation</th>\n",
       "      <th>mba_p</th>\n",
       "      <th>status</th>\n",
       "      <th>salary</th>\n",
       "    </tr>\n",
       "  </thead>\n",
       "  <tbody>\n",
       "    <tr>\n",
       "      <th>0</th>\n",
       "      <td>1</td>\n",
       "      <td>M</td>\n",
       "      <td>67.00</td>\n",
       "      <td>Others</td>\n",
       "      <td>91.00</td>\n",
       "      <td>Others</td>\n",
       "      <td>Commerce</td>\n",
       "      <td>58.00</td>\n",
       "      <td>Sci&amp;Tech</td>\n",
       "      <td>No</td>\n",
       "      <td>55.0</td>\n",
       "      <td>Mkt&amp;HR</td>\n",
       "      <td>58.80</td>\n",
       "      <td>Placed</td>\n",
       "      <td>270000.0</td>\n",
       "    </tr>\n",
       "    <tr>\n",
       "      <th>1</th>\n",
       "      <td>2</td>\n",
       "      <td>M</td>\n",
       "      <td>79.33</td>\n",
       "      <td>Central</td>\n",
       "      <td>78.33</td>\n",
       "      <td>Others</td>\n",
       "      <td>Science</td>\n",
       "      <td>77.48</td>\n",
       "      <td>Sci&amp;Tech</td>\n",
       "      <td>Yes</td>\n",
       "      <td>86.5</td>\n",
       "      <td>Mkt&amp;Fin</td>\n",
       "      <td>66.28</td>\n",
       "      <td>Placed</td>\n",
       "      <td>200000.0</td>\n",
       "    </tr>\n",
       "    <tr>\n",
       "      <th>2</th>\n",
       "      <td>3</td>\n",
       "      <td>M</td>\n",
       "      <td>65.00</td>\n",
       "      <td>Central</td>\n",
       "      <td>68.00</td>\n",
       "      <td>Central</td>\n",
       "      <td>Arts</td>\n",
       "      <td>64.00</td>\n",
       "      <td>Comm&amp;Mgmt</td>\n",
       "      <td>No</td>\n",
       "      <td>75.0</td>\n",
       "      <td>Mkt&amp;Fin</td>\n",
       "      <td>57.80</td>\n",
       "      <td>Placed</td>\n",
       "      <td>250000.0</td>\n",
       "    </tr>\n",
       "    <tr>\n",
       "      <th>3</th>\n",
       "      <td>4</td>\n",
       "      <td>M</td>\n",
       "      <td>56.00</td>\n",
       "      <td>Central</td>\n",
       "      <td>52.00</td>\n",
       "      <td>Central</td>\n",
       "      <td>Science</td>\n",
       "      <td>52.00</td>\n",
       "      <td>Sci&amp;Tech</td>\n",
       "      <td>No</td>\n",
       "      <td>66.0</td>\n",
       "      <td>Mkt&amp;HR</td>\n",
       "      <td>59.43</td>\n",
       "      <td>Not Placed</td>\n",
       "      <td>NaN</td>\n",
       "    </tr>\n",
       "    <tr>\n",
       "      <th>4</th>\n",
       "      <td>5</td>\n",
       "      <td>M</td>\n",
       "      <td>85.80</td>\n",
       "      <td>Central</td>\n",
       "      <td>73.60</td>\n",
       "      <td>Central</td>\n",
       "      <td>Commerce</td>\n",
       "      <td>73.30</td>\n",
       "      <td>Comm&amp;Mgmt</td>\n",
       "      <td>No</td>\n",
       "      <td>96.8</td>\n",
       "      <td>Mkt&amp;Fin</td>\n",
       "      <td>55.50</td>\n",
       "      <td>Placed</td>\n",
       "      <td>425000.0</td>\n",
       "    </tr>\n",
       "    <tr>\n",
       "      <th>...</th>\n",
       "      <td>...</td>\n",
       "      <td>...</td>\n",
       "      <td>...</td>\n",
       "      <td>...</td>\n",
       "      <td>...</td>\n",
       "      <td>...</td>\n",
       "      <td>...</td>\n",
       "      <td>...</td>\n",
       "      <td>...</td>\n",
       "      <td>...</td>\n",
       "      <td>...</td>\n",
       "      <td>...</td>\n",
       "      <td>...</td>\n",
       "      <td>...</td>\n",
       "      <td>...</td>\n",
       "    </tr>\n",
       "    <tr>\n",
       "      <th>210</th>\n",
       "      <td>211</td>\n",
       "      <td>M</td>\n",
       "      <td>80.60</td>\n",
       "      <td>Others</td>\n",
       "      <td>82.00</td>\n",
       "      <td>Others</td>\n",
       "      <td>Commerce</td>\n",
       "      <td>77.60</td>\n",
       "      <td>Comm&amp;Mgmt</td>\n",
       "      <td>No</td>\n",
       "      <td>91.0</td>\n",
       "      <td>Mkt&amp;Fin</td>\n",
       "      <td>74.49</td>\n",
       "      <td>Placed</td>\n",
       "      <td>400000.0</td>\n",
       "    </tr>\n",
       "    <tr>\n",
       "      <th>211</th>\n",
       "      <td>212</td>\n",
       "      <td>M</td>\n",
       "      <td>58.00</td>\n",
       "      <td>Others</td>\n",
       "      <td>60.00</td>\n",
       "      <td>Others</td>\n",
       "      <td>Science</td>\n",
       "      <td>72.00</td>\n",
       "      <td>Sci&amp;Tech</td>\n",
       "      <td>No</td>\n",
       "      <td>74.0</td>\n",
       "      <td>Mkt&amp;Fin</td>\n",
       "      <td>53.62</td>\n",
       "      <td>Placed</td>\n",
       "      <td>275000.0</td>\n",
       "    </tr>\n",
       "    <tr>\n",
       "      <th>212</th>\n",
       "      <td>213</td>\n",
       "      <td>M</td>\n",
       "      <td>67.00</td>\n",
       "      <td>Others</td>\n",
       "      <td>67.00</td>\n",
       "      <td>Others</td>\n",
       "      <td>Commerce</td>\n",
       "      <td>73.00</td>\n",
       "      <td>Comm&amp;Mgmt</td>\n",
       "      <td>Yes</td>\n",
       "      <td>59.0</td>\n",
       "      <td>Mkt&amp;Fin</td>\n",
       "      <td>69.72</td>\n",
       "      <td>Placed</td>\n",
       "      <td>295000.0</td>\n",
       "    </tr>\n",
       "    <tr>\n",
       "      <th>213</th>\n",
       "      <td>214</td>\n",
       "      <td>F</td>\n",
       "      <td>74.00</td>\n",
       "      <td>Others</td>\n",
       "      <td>66.00</td>\n",
       "      <td>Others</td>\n",
       "      <td>Commerce</td>\n",
       "      <td>58.00</td>\n",
       "      <td>Comm&amp;Mgmt</td>\n",
       "      <td>No</td>\n",
       "      <td>70.0</td>\n",
       "      <td>Mkt&amp;HR</td>\n",
       "      <td>60.23</td>\n",
       "      <td>Placed</td>\n",
       "      <td>204000.0</td>\n",
       "    </tr>\n",
       "    <tr>\n",
       "      <th>214</th>\n",
       "      <td>215</td>\n",
       "      <td>M</td>\n",
       "      <td>62.00</td>\n",
       "      <td>Central</td>\n",
       "      <td>58.00</td>\n",
       "      <td>Others</td>\n",
       "      <td>Science</td>\n",
       "      <td>53.00</td>\n",
       "      <td>Comm&amp;Mgmt</td>\n",
       "      <td>No</td>\n",
       "      <td>89.0</td>\n",
       "      <td>Mkt&amp;HR</td>\n",
       "      <td>60.22</td>\n",
       "      <td>Not Placed</td>\n",
       "      <td>NaN</td>\n",
       "    </tr>\n",
       "  </tbody>\n",
       "</table>\n",
       "<p>215 rows × 15 columns</p>\n",
       "</div>"
      ],
      "text/plain": [
       "     sl_no gender  ssc_p    ssc_b  hsc_p    hsc_b     hsc_s  degree_p  \\\n",
       "0        1      M  67.00   Others  91.00   Others  Commerce     58.00   \n",
       "1        2      M  79.33  Central  78.33   Others   Science     77.48   \n",
       "2        3      M  65.00  Central  68.00  Central      Arts     64.00   \n",
       "3        4      M  56.00  Central  52.00  Central   Science     52.00   \n",
       "4        5      M  85.80  Central  73.60  Central  Commerce     73.30   \n",
       "..     ...    ...    ...      ...    ...      ...       ...       ...   \n",
       "210    211      M  80.60   Others  82.00   Others  Commerce     77.60   \n",
       "211    212      M  58.00   Others  60.00   Others   Science     72.00   \n",
       "212    213      M  67.00   Others  67.00   Others  Commerce     73.00   \n",
       "213    214      F  74.00   Others  66.00   Others  Commerce     58.00   \n",
       "214    215      M  62.00  Central  58.00   Others   Science     53.00   \n",
       "\n",
       "      degree_t workex  etest_p specialisation  mba_p      status    salary  \n",
       "0     Sci&Tech     No     55.0         Mkt&HR  58.80      Placed  270000.0  \n",
       "1     Sci&Tech    Yes     86.5        Mkt&Fin  66.28      Placed  200000.0  \n",
       "2    Comm&Mgmt     No     75.0        Mkt&Fin  57.80      Placed  250000.0  \n",
       "3     Sci&Tech     No     66.0         Mkt&HR  59.43  Not Placed       NaN  \n",
       "4    Comm&Mgmt     No     96.8        Mkt&Fin  55.50      Placed  425000.0  \n",
       "..         ...    ...      ...            ...    ...         ...       ...  \n",
       "210  Comm&Mgmt     No     91.0        Mkt&Fin  74.49      Placed  400000.0  \n",
       "211   Sci&Tech     No     74.0        Mkt&Fin  53.62      Placed  275000.0  \n",
       "212  Comm&Mgmt    Yes     59.0        Mkt&Fin  69.72      Placed  295000.0  \n",
       "213  Comm&Mgmt     No     70.0         Mkt&HR  60.23      Placed  204000.0  \n",
       "214  Comm&Mgmt     No     89.0         Mkt&HR  60.22  Not Placed       NaN  \n",
       "\n",
       "[215 rows x 15 columns]"
      ]
     },
     "execution_count": 3,
     "metadata": {},
     "output_type": "execute_result"
    }
   ],
   "source": [
    "dataset"
   ]
  },
  {
   "cell_type": "code",
   "execution_count": 4,
   "id": "6397b295",
   "metadata": {},
   "outputs": [
    {
     "data": {
      "text/plain": [
       "sl_no              0\n",
       "gender             0\n",
       "ssc_p              0\n",
       "ssc_b              0\n",
       "hsc_p              0\n",
       "hsc_b              0\n",
       "hsc_s              0\n",
       "degree_p           0\n",
       "degree_t           0\n",
       "workex             0\n",
       "etest_p            0\n",
       "specialisation     0\n",
       "mba_p              0\n",
       "status             0\n",
       "salary            67\n",
       "dtype: int64"
      ]
     },
     "execution_count": 4,
     "metadata": {},
     "output_type": "execute_result"
    }
   ],
   "source": [
    "dataset.isnull().sum()"
   ]
  },
  {
   "cell_type": "markdown",
   "id": "132ca5a9",
   "metadata": {},
   "source": [
    "#1) Replace Nan values with correct value. And justify why you have chosen the same."
   ]
  },
  {
   "cell_type": "markdown",
   "id": "c391ed4b",
   "metadata": {},
   "source": [
    "#in this case, we can't take mean, median or mode because not placed students have Nan values in salary column;\n",
    "#we can't delete entire row because non placed students data will be missing;\n",
    "#we can't go for semi supervised learning; \n",
    "\n",
    "Salary column has 67 Nan values should be replaced with zero, so we wont get any missing of datas and it is the correct procedure for this dataset."
   ]
  },
  {
   "cell_type": "code",
   "execution_count": 5,
   "id": "5205d74f",
   "metadata": {},
   "outputs": [],
   "source": [
    "# 1) replacing nan values = 0\n",
    "dataset[\"salary\"].fillna(0,inplace=True)"
   ]
  },
  {
   "cell_type": "code",
   "execution_count": 6,
   "id": "6e26c11c",
   "metadata": {},
   "outputs": [
    {
     "data": {
      "text/html": [
       "<div>\n",
       "<style scoped>\n",
       "    .dataframe tbody tr th:only-of-type {\n",
       "        vertical-align: middle;\n",
       "    }\n",
       "\n",
       "    .dataframe tbody tr th {\n",
       "        vertical-align: top;\n",
       "    }\n",
       "\n",
       "    .dataframe thead th {\n",
       "        text-align: right;\n",
       "    }\n",
       "</style>\n",
       "<table border=\"1\" class=\"dataframe\">\n",
       "  <thead>\n",
       "    <tr style=\"text-align: right;\">\n",
       "      <th></th>\n",
       "      <th>sl_no</th>\n",
       "      <th>gender</th>\n",
       "      <th>ssc_p</th>\n",
       "      <th>ssc_b</th>\n",
       "      <th>hsc_p</th>\n",
       "      <th>hsc_b</th>\n",
       "      <th>hsc_s</th>\n",
       "      <th>degree_p</th>\n",
       "      <th>degree_t</th>\n",
       "      <th>workex</th>\n",
       "      <th>etest_p</th>\n",
       "      <th>specialisation</th>\n",
       "      <th>mba_p</th>\n",
       "      <th>status</th>\n",
       "      <th>salary</th>\n",
       "    </tr>\n",
       "  </thead>\n",
       "  <tbody>\n",
       "    <tr>\n",
       "      <th>0</th>\n",
       "      <td>1</td>\n",
       "      <td>M</td>\n",
       "      <td>67.00</td>\n",
       "      <td>Others</td>\n",
       "      <td>91.00</td>\n",
       "      <td>Others</td>\n",
       "      <td>Commerce</td>\n",
       "      <td>58.00</td>\n",
       "      <td>Sci&amp;Tech</td>\n",
       "      <td>No</td>\n",
       "      <td>55.0</td>\n",
       "      <td>Mkt&amp;HR</td>\n",
       "      <td>58.80</td>\n",
       "      <td>Placed</td>\n",
       "      <td>270000.0</td>\n",
       "    </tr>\n",
       "    <tr>\n",
       "      <th>1</th>\n",
       "      <td>2</td>\n",
       "      <td>M</td>\n",
       "      <td>79.33</td>\n",
       "      <td>Central</td>\n",
       "      <td>78.33</td>\n",
       "      <td>Others</td>\n",
       "      <td>Science</td>\n",
       "      <td>77.48</td>\n",
       "      <td>Sci&amp;Tech</td>\n",
       "      <td>Yes</td>\n",
       "      <td>86.5</td>\n",
       "      <td>Mkt&amp;Fin</td>\n",
       "      <td>66.28</td>\n",
       "      <td>Placed</td>\n",
       "      <td>200000.0</td>\n",
       "    </tr>\n",
       "    <tr>\n",
       "      <th>2</th>\n",
       "      <td>3</td>\n",
       "      <td>M</td>\n",
       "      <td>65.00</td>\n",
       "      <td>Central</td>\n",
       "      <td>68.00</td>\n",
       "      <td>Central</td>\n",
       "      <td>Arts</td>\n",
       "      <td>64.00</td>\n",
       "      <td>Comm&amp;Mgmt</td>\n",
       "      <td>No</td>\n",
       "      <td>75.0</td>\n",
       "      <td>Mkt&amp;Fin</td>\n",
       "      <td>57.80</td>\n",
       "      <td>Placed</td>\n",
       "      <td>250000.0</td>\n",
       "    </tr>\n",
       "    <tr>\n",
       "      <th>3</th>\n",
       "      <td>4</td>\n",
       "      <td>M</td>\n",
       "      <td>56.00</td>\n",
       "      <td>Central</td>\n",
       "      <td>52.00</td>\n",
       "      <td>Central</td>\n",
       "      <td>Science</td>\n",
       "      <td>52.00</td>\n",
       "      <td>Sci&amp;Tech</td>\n",
       "      <td>No</td>\n",
       "      <td>66.0</td>\n",
       "      <td>Mkt&amp;HR</td>\n",
       "      <td>59.43</td>\n",
       "      <td>Not Placed</td>\n",
       "      <td>0.0</td>\n",
       "    </tr>\n",
       "    <tr>\n",
       "      <th>4</th>\n",
       "      <td>5</td>\n",
       "      <td>M</td>\n",
       "      <td>85.80</td>\n",
       "      <td>Central</td>\n",
       "      <td>73.60</td>\n",
       "      <td>Central</td>\n",
       "      <td>Commerce</td>\n",
       "      <td>73.30</td>\n",
       "      <td>Comm&amp;Mgmt</td>\n",
       "      <td>No</td>\n",
       "      <td>96.8</td>\n",
       "      <td>Mkt&amp;Fin</td>\n",
       "      <td>55.50</td>\n",
       "      <td>Placed</td>\n",
       "      <td>425000.0</td>\n",
       "    </tr>\n",
       "    <tr>\n",
       "      <th>...</th>\n",
       "      <td>...</td>\n",
       "      <td>...</td>\n",
       "      <td>...</td>\n",
       "      <td>...</td>\n",
       "      <td>...</td>\n",
       "      <td>...</td>\n",
       "      <td>...</td>\n",
       "      <td>...</td>\n",
       "      <td>...</td>\n",
       "      <td>...</td>\n",
       "      <td>...</td>\n",
       "      <td>...</td>\n",
       "      <td>...</td>\n",
       "      <td>...</td>\n",
       "      <td>...</td>\n",
       "    </tr>\n",
       "    <tr>\n",
       "      <th>210</th>\n",
       "      <td>211</td>\n",
       "      <td>M</td>\n",
       "      <td>80.60</td>\n",
       "      <td>Others</td>\n",
       "      <td>82.00</td>\n",
       "      <td>Others</td>\n",
       "      <td>Commerce</td>\n",
       "      <td>77.60</td>\n",
       "      <td>Comm&amp;Mgmt</td>\n",
       "      <td>No</td>\n",
       "      <td>91.0</td>\n",
       "      <td>Mkt&amp;Fin</td>\n",
       "      <td>74.49</td>\n",
       "      <td>Placed</td>\n",
       "      <td>400000.0</td>\n",
       "    </tr>\n",
       "    <tr>\n",
       "      <th>211</th>\n",
       "      <td>212</td>\n",
       "      <td>M</td>\n",
       "      <td>58.00</td>\n",
       "      <td>Others</td>\n",
       "      <td>60.00</td>\n",
       "      <td>Others</td>\n",
       "      <td>Science</td>\n",
       "      <td>72.00</td>\n",
       "      <td>Sci&amp;Tech</td>\n",
       "      <td>No</td>\n",
       "      <td>74.0</td>\n",
       "      <td>Mkt&amp;Fin</td>\n",
       "      <td>53.62</td>\n",
       "      <td>Placed</td>\n",
       "      <td>275000.0</td>\n",
       "    </tr>\n",
       "    <tr>\n",
       "      <th>212</th>\n",
       "      <td>213</td>\n",
       "      <td>M</td>\n",
       "      <td>67.00</td>\n",
       "      <td>Others</td>\n",
       "      <td>67.00</td>\n",
       "      <td>Others</td>\n",
       "      <td>Commerce</td>\n",
       "      <td>73.00</td>\n",
       "      <td>Comm&amp;Mgmt</td>\n",
       "      <td>Yes</td>\n",
       "      <td>59.0</td>\n",
       "      <td>Mkt&amp;Fin</td>\n",
       "      <td>69.72</td>\n",
       "      <td>Placed</td>\n",
       "      <td>295000.0</td>\n",
       "    </tr>\n",
       "    <tr>\n",
       "      <th>213</th>\n",
       "      <td>214</td>\n",
       "      <td>F</td>\n",
       "      <td>74.00</td>\n",
       "      <td>Others</td>\n",
       "      <td>66.00</td>\n",
       "      <td>Others</td>\n",
       "      <td>Commerce</td>\n",
       "      <td>58.00</td>\n",
       "      <td>Comm&amp;Mgmt</td>\n",
       "      <td>No</td>\n",
       "      <td>70.0</td>\n",
       "      <td>Mkt&amp;HR</td>\n",
       "      <td>60.23</td>\n",
       "      <td>Placed</td>\n",
       "      <td>204000.0</td>\n",
       "    </tr>\n",
       "    <tr>\n",
       "      <th>214</th>\n",
       "      <td>215</td>\n",
       "      <td>M</td>\n",
       "      <td>62.00</td>\n",
       "      <td>Central</td>\n",
       "      <td>58.00</td>\n",
       "      <td>Others</td>\n",
       "      <td>Science</td>\n",
       "      <td>53.00</td>\n",
       "      <td>Comm&amp;Mgmt</td>\n",
       "      <td>No</td>\n",
       "      <td>89.0</td>\n",
       "      <td>Mkt&amp;HR</td>\n",
       "      <td>60.22</td>\n",
       "      <td>Not Placed</td>\n",
       "      <td>0.0</td>\n",
       "    </tr>\n",
       "  </tbody>\n",
       "</table>\n",
       "<p>215 rows × 15 columns</p>\n",
       "</div>"
      ],
      "text/plain": [
       "     sl_no gender  ssc_p    ssc_b  hsc_p    hsc_b     hsc_s  degree_p  \\\n",
       "0        1      M  67.00   Others  91.00   Others  Commerce     58.00   \n",
       "1        2      M  79.33  Central  78.33   Others   Science     77.48   \n",
       "2        3      M  65.00  Central  68.00  Central      Arts     64.00   \n",
       "3        4      M  56.00  Central  52.00  Central   Science     52.00   \n",
       "4        5      M  85.80  Central  73.60  Central  Commerce     73.30   \n",
       "..     ...    ...    ...      ...    ...      ...       ...       ...   \n",
       "210    211      M  80.60   Others  82.00   Others  Commerce     77.60   \n",
       "211    212      M  58.00   Others  60.00   Others   Science     72.00   \n",
       "212    213      M  67.00   Others  67.00   Others  Commerce     73.00   \n",
       "213    214      F  74.00   Others  66.00   Others  Commerce     58.00   \n",
       "214    215      M  62.00  Central  58.00   Others   Science     53.00   \n",
       "\n",
       "      degree_t workex  etest_p specialisation  mba_p      status    salary  \n",
       "0     Sci&Tech     No     55.0         Mkt&HR  58.80      Placed  270000.0  \n",
       "1     Sci&Tech    Yes     86.5        Mkt&Fin  66.28      Placed  200000.0  \n",
       "2    Comm&Mgmt     No     75.0        Mkt&Fin  57.80      Placed  250000.0  \n",
       "3     Sci&Tech     No     66.0         Mkt&HR  59.43  Not Placed       0.0  \n",
       "4    Comm&Mgmt     No     96.8        Mkt&Fin  55.50      Placed  425000.0  \n",
       "..         ...    ...      ...            ...    ...         ...       ...  \n",
       "210  Comm&Mgmt     No     91.0        Mkt&Fin  74.49      Placed  400000.0  \n",
       "211   Sci&Tech     No     74.0        Mkt&Fin  53.62      Placed  275000.0  \n",
       "212  Comm&Mgmt    Yes     59.0        Mkt&Fin  69.72      Placed  295000.0  \n",
       "213  Comm&Mgmt     No     70.0         Mkt&HR  60.23      Placed  204000.0  \n",
       "214  Comm&Mgmt     No     89.0         Mkt&HR  60.22  Not Placed       0.0  \n",
       "\n",
       "[215 rows x 15 columns]"
      ]
     },
     "execution_count": 6,
     "metadata": {},
     "output_type": "execute_result"
    }
   ],
   "source": [
    "dataset"
   ]
  },
  {
   "cell_type": "code",
   "execution_count": 7,
   "id": "0f354a31",
   "metadata": {},
   "outputs": [
    {
     "data": {
      "text/plain": [
       "sl_no             0\n",
       "gender            0\n",
       "ssc_p             0\n",
       "ssc_b             0\n",
       "hsc_p             0\n",
       "hsc_b             0\n",
       "hsc_s             0\n",
       "degree_p          0\n",
       "degree_t          0\n",
       "workex            0\n",
       "etest_p           0\n",
       "specialisation    0\n",
       "mba_p             0\n",
       "status            0\n",
       "salary            0\n",
       "dtype: int64"
      ]
     },
     "execution_count": 7,
     "metadata": {},
     "output_type": "execute_result"
    }
   ],
   "source": [
    "dataset.isnull().sum()"
   ]
  },
  {
   "cell_type": "markdown",
   "id": "33c77c4e",
   "metadata": {},
   "source": [
    "#2)How many of them are not placed?"
   ]
  },
  {
   "cell_type": "code",
   "execution_count": 8,
   "id": "8f5bc61d",
   "metadata": {},
   "outputs": [
    {
     "data": {
      "text/plain": [
       "Placed        148\n",
       "Not Placed     67\n",
       "Name: status, dtype: int64"
      ]
     },
     "execution_count": 8,
     "metadata": {},
     "output_type": "execute_result"
    }
   ],
   "source": [
    "\n",
    "dataset[\"status\"].value_counts()"
   ]
  },
  {
   "cell_type": "markdown",
   "id": "b18a0b2f",
   "metadata": {},
   "source": [
    "#Using value_counts() function, we found there are 67 students were not placed"
   ]
  },
  {
   "cell_type": "markdown",
   "id": "dd89833b",
   "metadata": {},
   "source": [
    "#3) find the reason for non placement from the dataset"
   ]
  },
  {
   "cell_type": "code",
   "execution_count": 9,
   "id": "af378b17",
   "metadata": {},
   "outputs": [],
   "source": [
    "\n",
    "def quanQual(dataset):\n",
    "    quan=[]\n",
    "    qual=[]\n",
    "    for columnName in dataset.columns:\n",
    "        #print(columnName)\n",
    "        if(dataset[columnName].dtypes=='O'):\n",
    "            #print(\"qual\")\n",
    "            qual.append(columnName)\n",
    "        else:\n",
    "            #print(\"quan\")\n",
    "            quan.append(columnName)\n",
    "    return quan,qual"
   ]
  },
  {
   "cell_type": "code",
   "execution_count": 10,
   "id": "1713e2a0",
   "metadata": {},
   "outputs": [],
   "source": [
    "quan,qual=quanQual(dataset)"
   ]
  },
  {
   "cell_type": "code",
   "execution_count": 11,
   "id": "cf4b30b9",
   "metadata": {},
   "outputs": [],
   "source": [
    "non_placement_data = dataset[dataset['status'] == 'Not Placed']"
   ]
  },
  {
   "cell_type": "code",
   "execution_count": 12,
   "id": "1e5a52e4",
   "metadata": {},
   "outputs": [
    {
     "data": {
      "text/html": [
       "<div>\n",
       "<style scoped>\n",
       "    .dataframe tbody tr th:only-of-type {\n",
       "        vertical-align: middle;\n",
       "    }\n",
       "\n",
       "    .dataframe tbody tr th {\n",
       "        vertical-align: top;\n",
       "    }\n",
       "\n",
       "    .dataframe thead th {\n",
       "        text-align: right;\n",
       "    }\n",
       "</style>\n",
       "<table border=\"1\" class=\"dataframe\">\n",
       "  <thead>\n",
       "    <tr style=\"text-align: right;\">\n",
       "      <th></th>\n",
       "      <th>sl_no</th>\n",
       "      <th>gender</th>\n",
       "      <th>ssc_p</th>\n",
       "      <th>ssc_b</th>\n",
       "      <th>hsc_p</th>\n",
       "      <th>hsc_b</th>\n",
       "      <th>hsc_s</th>\n",
       "      <th>degree_p</th>\n",
       "      <th>degree_t</th>\n",
       "      <th>workex</th>\n",
       "      <th>etest_p</th>\n",
       "      <th>specialisation</th>\n",
       "      <th>mba_p</th>\n",
       "      <th>status</th>\n",
       "      <th>salary</th>\n",
       "    </tr>\n",
       "  </thead>\n",
       "  <tbody>\n",
       "    <tr>\n",
       "      <th>3</th>\n",
       "      <td>4</td>\n",
       "      <td>M</td>\n",
       "      <td>56.0</td>\n",
       "      <td>Central</td>\n",
       "      <td>52.0</td>\n",
       "      <td>Central</td>\n",
       "      <td>Science</td>\n",
       "      <td>52.00</td>\n",
       "      <td>Sci&amp;Tech</td>\n",
       "      <td>No</td>\n",
       "      <td>66.00</td>\n",
       "      <td>Mkt&amp;HR</td>\n",
       "      <td>59.43</td>\n",
       "      <td>Not Placed</td>\n",
       "      <td>0.0</td>\n",
       "    </tr>\n",
       "    <tr>\n",
       "      <th>5</th>\n",
       "      <td>6</td>\n",
       "      <td>M</td>\n",
       "      <td>55.0</td>\n",
       "      <td>Others</td>\n",
       "      <td>49.8</td>\n",
       "      <td>Others</td>\n",
       "      <td>Science</td>\n",
       "      <td>67.25</td>\n",
       "      <td>Sci&amp;Tech</td>\n",
       "      <td>Yes</td>\n",
       "      <td>55.00</td>\n",
       "      <td>Mkt&amp;Fin</td>\n",
       "      <td>51.58</td>\n",
       "      <td>Not Placed</td>\n",
       "      <td>0.0</td>\n",
       "    </tr>\n",
       "    <tr>\n",
       "      <th>6</th>\n",
       "      <td>7</td>\n",
       "      <td>F</td>\n",
       "      <td>46.0</td>\n",
       "      <td>Others</td>\n",
       "      <td>49.2</td>\n",
       "      <td>Others</td>\n",
       "      <td>Commerce</td>\n",
       "      <td>79.00</td>\n",
       "      <td>Comm&amp;Mgmt</td>\n",
       "      <td>No</td>\n",
       "      <td>74.28</td>\n",
       "      <td>Mkt&amp;Fin</td>\n",
       "      <td>53.29</td>\n",
       "      <td>Not Placed</td>\n",
       "      <td>0.0</td>\n",
       "    </tr>\n",
       "    <tr>\n",
       "      <th>9</th>\n",
       "      <td>10</td>\n",
       "      <td>M</td>\n",
       "      <td>58.0</td>\n",
       "      <td>Central</td>\n",
       "      <td>70.0</td>\n",
       "      <td>Central</td>\n",
       "      <td>Commerce</td>\n",
       "      <td>61.00</td>\n",
       "      <td>Comm&amp;Mgmt</td>\n",
       "      <td>No</td>\n",
       "      <td>54.00</td>\n",
       "      <td>Mkt&amp;Fin</td>\n",
       "      <td>52.21</td>\n",
       "      <td>Not Placed</td>\n",
       "      <td>0.0</td>\n",
       "    </tr>\n",
       "    <tr>\n",
       "      <th>12</th>\n",
       "      <td>13</td>\n",
       "      <td>F</td>\n",
       "      <td>47.0</td>\n",
       "      <td>Central</td>\n",
       "      <td>55.0</td>\n",
       "      <td>Others</td>\n",
       "      <td>Science</td>\n",
       "      <td>65.00</td>\n",
       "      <td>Comm&amp;Mgmt</td>\n",
       "      <td>No</td>\n",
       "      <td>62.00</td>\n",
       "      <td>Mkt&amp;HR</td>\n",
       "      <td>65.04</td>\n",
       "      <td>Not Placed</td>\n",
       "      <td>0.0</td>\n",
       "    </tr>\n",
       "    <tr>\n",
       "      <th>...</th>\n",
       "      <td>...</td>\n",
       "      <td>...</td>\n",
       "      <td>...</td>\n",
       "      <td>...</td>\n",
       "      <td>...</td>\n",
       "      <td>...</td>\n",
       "      <td>...</td>\n",
       "      <td>...</td>\n",
       "      <td>...</td>\n",
       "      <td>...</td>\n",
       "      <td>...</td>\n",
       "      <td>...</td>\n",
       "      <td>...</td>\n",
       "      <td>...</td>\n",
       "      <td>...</td>\n",
       "    </tr>\n",
       "    <tr>\n",
       "      <th>198</th>\n",
       "      <td>199</td>\n",
       "      <td>F</td>\n",
       "      <td>67.0</td>\n",
       "      <td>Central</td>\n",
       "      <td>70.0</td>\n",
       "      <td>Central</td>\n",
       "      <td>Commerce</td>\n",
       "      <td>65.00</td>\n",
       "      <td>Others</td>\n",
       "      <td>No</td>\n",
       "      <td>88.00</td>\n",
       "      <td>Mkt&amp;HR</td>\n",
       "      <td>71.96</td>\n",
       "      <td>Not Placed</td>\n",
       "      <td>0.0</td>\n",
       "    </tr>\n",
       "    <tr>\n",
       "      <th>201</th>\n",
       "      <td>202</td>\n",
       "      <td>M</td>\n",
       "      <td>54.2</td>\n",
       "      <td>Central</td>\n",
       "      <td>63.0</td>\n",
       "      <td>Others</td>\n",
       "      <td>Science</td>\n",
       "      <td>58.00</td>\n",
       "      <td>Comm&amp;Mgmt</td>\n",
       "      <td>No</td>\n",
       "      <td>79.00</td>\n",
       "      <td>Mkt&amp;HR</td>\n",
       "      <td>58.44</td>\n",
       "      <td>Not Placed</td>\n",
       "      <td>0.0</td>\n",
       "    </tr>\n",
       "    <tr>\n",
       "      <th>206</th>\n",
       "      <td>207</td>\n",
       "      <td>M</td>\n",
       "      <td>41.0</td>\n",
       "      <td>Central</td>\n",
       "      <td>42.0</td>\n",
       "      <td>Central</td>\n",
       "      <td>Science</td>\n",
       "      <td>60.00</td>\n",
       "      <td>Comm&amp;Mgmt</td>\n",
       "      <td>No</td>\n",
       "      <td>97.00</td>\n",
       "      <td>Mkt&amp;Fin</td>\n",
       "      <td>53.39</td>\n",
       "      <td>Not Placed</td>\n",
       "      <td>0.0</td>\n",
       "    </tr>\n",
       "    <tr>\n",
       "      <th>208</th>\n",
       "      <td>209</td>\n",
       "      <td>F</td>\n",
       "      <td>43.0</td>\n",
       "      <td>Central</td>\n",
       "      <td>60.0</td>\n",
       "      <td>Others</td>\n",
       "      <td>Science</td>\n",
       "      <td>65.00</td>\n",
       "      <td>Comm&amp;Mgmt</td>\n",
       "      <td>No</td>\n",
       "      <td>92.66</td>\n",
       "      <td>Mkt&amp;HR</td>\n",
       "      <td>62.92</td>\n",
       "      <td>Not Placed</td>\n",
       "      <td>0.0</td>\n",
       "    </tr>\n",
       "    <tr>\n",
       "      <th>214</th>\n",
       "      <td>215</td>\n",
       "      <td>M</td>\n",
       "      <td>62.0</td>\n",
       "      <td>Central</td>\n",
       "      <td>58.0</td>\n",
       "      <td>Others</td>\n",
       "      <td>Science</td>\n",
       "      <td>53.00</td>\n",
       "      <td>Comm&amp;Mgmt</td>\n",
       "      <td>No</td>\n",
       "      <td>89.00</td>\n",
       "      <td>Mkt&amp;HR</td>\n",
       "      <td>60.22</td>\n",
       "      <td>Not Placed</td>\n",
       "      <td>0.0</td>\n",
       "    </tr>\n",
       "  </tbody>\n",
       "</table>\n",
       "<p>67 rows × 15 columns</p>\n",
       "</div>"
      ],
      "text/plain": [
       "     sl_no gender  ssc_p    ssc_b  hsc_p    hsc_b     hsc_s  degree_p  \\\n",
       "3        4      M   56.0  Central   52.0  Central   Science     52.00   \n",
       "5        6      M   55.0   Others   49.8   Others   Science     67.25   \n",
       "6        7      F   46.0   Others   49.2   Others  Commerce     79.00   \n",
       "9       10      M   58.0  Central   70.0  Central  Commerce     61.00   \n",
       "12      13      F   47.0  Central   55.0   Others   Science     65.00   \n",
       "..     ...    ...    ...      ...    ...      ...       ...       ...   \n",
       "198    199      F   67.0  Central   70.0  Central  Commerce     65.00   \n",
       "201    202      M   54.2  Central   63.0   Others   Science     58.00   \n",
       "206    207      M   41.0  Central   42.0  Central   Science     60.00   \n",
       "208    209      F   43.0  Central   60.0   Others   Science     65.00   \n",
       "214    215      M   62.0  Central   58.0   Others   Science     53.00   \n",
       "\n",
       "      degree_t workex  etest_p specialisation  mba_p      status  salary  \n",
       "3     Sci&Tech     No    66.00         Mkt&HR  59.43  Not Placed     0.0  \n",
       "5     Sci&Tech    Yes    55.00        Mkt&Fin  51.58  Not Placed     0.0  \n",
       "6    Comm&Mgmt     No    74.28        Mkt&Fin  53.29  Not Placed     0.0  \n",
       "9    Comm&Mgmt     No    54.00        Mkt&Fin  52.21  Not Placed     0.0  \n",
       "12   Comm&Mgmt     No    62.00         Mkt&HR  65.04  Not Placed     0.0  \n",
       "..         ...    ...      ...            ...    ...         ...     ...  \n",
       "198     Others     No    88.00         Mkt&HR  71.96  Not Placed     0.0  \n",
       "201  Comm&Mgmt     No    79.00         Mkt&HR  58.44  Not Placed     0.0  \n",
       "206  Comm&Mgmt     No    97.00        Mkt&Fin  53.39  Not Placed     0.0  \n",
       "208  Comm&Mgmt     No    92.66         Mkt&HR  62.92  Not Placed     0.0  \n",
       "214  Comm&Mgmt     No    89.00         Mkt&HR  60.22  Not Placed     0.0  \n",
       "\n",
       "[67 rows x 15 columns]"
      ]
     },
     "execution_count": 12,
     "metadata": {},
     "output_type": "execute_result"
    }
   ],
   "source": [
    "non_placement_data"
   ]
  },
  {
   "cell_type": "code",
   "execution_count": 13,
   "id": "8dd406cd",
   "metadata": {},
   "outputs": [],
   "source": [
    "placement_data = dataset[dataset['status'] == 'Placed']"
   ]
  },
  {
   "cell_type": "code",
   "execution_count": 14,
   "id": "53c19f4b",
   "metadata": {},
   "outputs": [
    {
     "data": {
      "text/html": [
       "<div>\n",
       "<style scoped>\n",
       "    .dataframe tbody tr th:only-of-type {\n",
       "        vertical-align: middle;\n",
       "    }\n",
       "\n",
       "    .dataframe tbody tr th {\n",
       "        vertical-align: top;\n",
       "    }\n",
       "\n",
       "    .dataframe thead th {\n",
       "        text-align: right;\n",
       "    }\n",
       "</style>\n",
       "<table border=\"1\" class=\"dataframe\">\n",
       "  <thead>\n",
       "    <tr style=\"text-align: right;\">\n",
       "      <th></th>\n",
       "      <th>sl_no</th>\n",
       "      <th>gender</th>\n",
       "      <th>ssc_p</th>\n",
       "      <th>ssc_b</th>\n",
       "      <th>hsc_p</th>\n",
       "      <th>hsc_b</th>\n",
       "      <th>hsc_s</th>\n",
       "      <th>degree_p</th>\n",
       "      <th>degree_t</th>\n",
       "      <th>workex</th>\n",
       "      <th>etest_p</th>\n",
       "      <th>specialisation</th>\n",
       "      <th>mba_p</th>\n",
       "      <th>status</th>\n",
       "      <th>salary</th>\n",
       "    </tr>\n",
       "  </thead>\n",
       "  <tbody>\n",
       "    <tr>\n",
       "      <th>0</th>\n",
       "      <td>1</td>\n",
       "      <td>M</td>\n",
       "      <td>67.00</td>\n",
       "      <td>Others</td>\n",
       "      <td>91.00</td>\n",
       "      <td>Others</td>\n",
       "      <td>Commerce</td>\n",
       "      <td>58.00</td>\n",
       "      <td>Sci&amp;Tech</td>\n",
       "      <td>No</td>\n",
       "      <td>55.0</td>\n",
       "      <td>Mkt&amp;HR</td>\n",
       "      <td>58.80</td>\n",
       "      <td>Placed</td>\n",
       "      <td>270000.0</td>\n",
       "    </tr>\n",
       "    <tr>\n",
       "      <th>1</th>\n",
       "      <td>2</td>\n",
       "      <td>M</td>\n",
       "      <td>79.33</td>\n",
       "      <td>Central</td>\n",
       "      <td>78.33</td>\n",
       "      <td>Others</td>\n",
       "      <td>Science</td>\n",
       "      <td>77.48</td>\n",
       "      <td>Sci&amp;Tech</td>\n",
       "      <td>Yes</td>\n",
       "      <td>86.5</td>\n",
       "      <td>Mkt&amp;Fin</td>\n",
       "      <td>66.28</td>\n",
       "      <td>Placed</td>\n",
       "      <td>200000.0</td>\n",
       "    </tr>\n",
       "    <tr>\n",
       "      <th>2</th>\n",
       "      <td>3</td>\n",
       "      <td>M</td>\n",
       "      <td>65.00</td>\n",
       "      <td>Central</td>\n",
       "      <td>68.00</td>\n",
       "      <td>Central</td>\n",
       "      <td>Arts</td>\n",
       "      <td>64.00</td>\n",
       "      <td>Comm&amp;Mgmt</td>\n",
       "      <td>No</td>\n",
       "      <td>75.0</td>\n",
       "      <td>Mkt&amp;Fin</td>\n",
       "      <td>57.80</td>\n",
       "      <td>Placed</td>\n",
       "      <td>250000.0</td>\n",
       "    </tr>\n",
       "    <tr>\n",
       "      <th>4</th>\n",
       "      <td>5</td>\n",
       "      <td>M</td>\n",
       "      <td>85.80</td>\n",
       "      <td>Central</td>\n",
       "      <td>73.60</td>\n",
       "      <td>Central</td>\n",
       "      <td>Commerce</td>\n",
       "      <td>73.30</td>\n",
       "      <td>Comm&amp;Mgmt</td>\n",
       "      <td>No</td>\n",
       "      <td>96.8</td>\n",
       "      <td>Mkt&amp;Fin</td>\n",
       "      <td>55.50</td>\n",
       "      <td>Placed</td>\n",
       "      <td>425000.0</td>\n",
       "    </tr>\n",
       "    <tr>\n",
       "      <th>7</th>\n",
       "      <td>8</td>\n",
       "      <td>M</td>\n",
       "      <td>82.00</td>\n",
       "      <td>Central</td>\n",
       "      <td>64.00</td>\n",
       "      <td>Central</td>\n",
       "      <td>Science</td>\n",
       "      <td>66.00</td>\n",
       "      <td>Sci&amp;Tech</td>\n",
       "      <td>Yes</td>\n",
       "      <td>67.0</td>\n",
       "      <td>Mkt&amp;Fin</td>\n",
       "      <td>62.14</td>\n",
       "      <td>Placed</td>\n",
       "      <td>252000.0</td>\n",
       "    </tr>\n",
       "    <tr>\n",
       "      <th>...</th>\n",
       "      <td>...</td>\n",
       "      <td>...</td>\n",
       "      <td>...</td>\n",
       "      <td>...</td>\n",
       "      <td>...</td>\n",
       "      <td>...</td>\n",
       "      <td>...</td>\n",
       "      <td>...</td>\n",
       "      <td>...</td>\n",
       "      <td>...</td>\n",
       "      <td>...</td>\n",
       "      <td>...</td>\n",
       "      <td>...</td>\n",
       "      <td>...</td>\n",
       "      <td>...</td>\n",
       "    </tr>\n",
       "    <tr>\n",
       "      <th>209</th>\n",
       "      <td>210</td>\n",
       "      <td>M</td>\n",
       "      <td>62.00</td>\n",
       "      <td>Central</td>\n",
       "      <td>72.00</td>\n",
       "      <td>Central</td>\n",
       "      <td>Commerce</td>\n",
       "      <td>65.00</td>\n",
       "      <td>Comm&amp;Mgmt</td>\n",
       "      <td>No</td>\n",
       "      <td>67.0</td>\n",
       "      <td>Mkt&amp;Fin</td>\n",
       "      <td>56.49</td>\n",
       "      <td>Placed</td>\n",
       "      <td>216000.0</td>\n",
       "    </tr>\n",
       "    <tr>\n",
       "      <th>210</th>\n",
       "      <td>211</td>\n",
       "      <td>M</td>\n",
       "      <td>80.60</td>\n",
       "      <td>Others</td>\n",
       "      <td>82.00</td>\n",
       "      <td>Others</td>\n",
       "      <td>Commerce</td>\n",
       "      <td>77.60</td>\n",
       "      <td>Comm&amp;Mgmt</td>\n",
       "      <td>No</td>\n",
       "      <td>91.0</td>\n",
       "      <td>Mkt&amp;Fin</td>\n",
       "      <td>74.49</td>\n",
       "      <td>Placed</td>\n",
       "      <td>400000.0</td>\n",
       "    </tr>\n",
       "    <tr>\n",
       "      <th>211</th>\n",
       "      <td>212</td>\n",
       "      <td>M</td>\n",
       "      <td>58.00</td>\n",
       "      <td>Others</td>\n",
       "      <td>60.00</td>\n",
       "      <td>Others</td>\n",
       "      <td>Science</td>\n",
       "      <td>72.00</td>\n",
       "      <td>Sci&amp;Tech</td>\n",
       "      <td>No</td>\n",
       "      <td>74.0</td>\n",
       "      <td>Mkt&amp;Fin</td>\n",
       "      <td>53.62</td>\n",
       "      <td>Placed</td>\n",
       "      <td>275000.0</td>\n",
       "    </tr>\n",
       "    <tr>\n",
       "      <th>212</th>\n",
       "      <td>213</td>\n",
       "      <td>M</td>\n",
       "      <td>67.00</td>\n",
       "      <td>Others</td>\n",
       "      <td>67.00</td>\n",
       "      <td>Others</td>\n",
       "      <td>Commerce</td>\n",
       "      <td>73.00</td>\n",
       "      <td>Comm&amp;Mgmt</td>\n",
       "      <td>Yes</td>\n",
       "      <td>59.0</td>\n",
       "      <td>Mkt&amp;Fin</td>\n",
       "      <td>69.72</td>\n",
       "      <td>Placed</td>\n",
       "      <td>295000.0</td>\n",
       "    </tr>\n",
       "    <tr>\n",
       "      <th>213</th>\n",
       "      <td>214</td>\n",
       "      <td>F</td>\n",
       "      <td>74.00</td>\n",
       "      <td>Others</td>\n",
       "      <td>66.00</td>\n",
       "      <td>Others</td>\n",
       "      <td>Commerce</td>\n",
       "      <td>58.00</td>\n",
       "      <td>Comm&amp;Mgmt</td>\n",
       "      <td>No</td>\n",
       "      <td>70.0</td>\n",
       "      <td>Mkt&amp;HR</td>\n",
       "      <td>60.23</td>\n",
       "      <td>Placed</td>\n",
       "      <td>204000.0</td>\n",
       "    </tr>\n",
       "  </tbody>\n",
       "</table>\n",
       "<p>148 rows × 15 columns</p>\n",
       "</div>"
      ],
      "text/plain": [
       "     sl_no gender  ssc_p    ssc_b  hsc_p    hsc_b     hsc_s  degree_p  \\\n",
       "0        1      M  67.00   Others  91.00   Others  Commerce     58.00   \n",
       "1        2      M  79.33  Central  78.33   Others   Science     77.48   \n",
       "2        3      M  65.00  Central  68.00  Central      Arts     64.00   \n",
       "4        5      M  85.80  Central  73.60  Central  Commerce     73.30   \n",
       "7        8      M  82.00  Central  64.00  Central   Science     66.00   \n",
       "..     ...    ...    ...      ...    ...      ...       ...       ...   \n",
       "209    210      M  62.00  Central  72.00  Central  Commerce     65.00   \n",
       "210    211      M  80.60   Others  82.00   Others  Commerce     77.60   \n",
       "211    212      M  58.00   Others  60.00   Others   Science     72.00   \n",
       "212    213      M  67.00   Others  67.00   Others  Commerce     73.00   \n",
       "213    214      F  74.00   Others  66.00   Others  Commerce     58.00   \n",
       "\n",
       "      degree_t workex  etest_p specialisation  mba_p  status    salary  \n",
       "0     Sci&Tech     No     55.0         Mkt&HR  58.80  Placed  270000.0  \n",
       "1     Sci&Tech    Yes     86.5        Mkt&Fin  66.28  Placed  200000.0  \n",
       "2    Comm&Mgmt     No     75.0        Mkt&Fin  57.80  Placed  250000.0  \n",
       "4    Comm&Mgmt     No     96.8        Mkt&Fin  55.50  Placed  425000.0  \n",
       "7     Sci&Tech    Yes     67.0        Mkt&Fin  62.14  Placed  252000.0  \n",
       "..         ...    ...      ...            ...    ...     ...       ...  \n",
       "209  Comm&Mgmt     No     67.0        Mkt&Fin  56.49  Placed  216000.0  \n",
       "210  Comm&Mgmt     No     91.0        Mkt&Fin  74.49  Placed  400000.0  \n",
       "211   Sci&Tech     No     74.0        Mkt&Fin  53.62  Placed  275000.0  \n",
       "212  Comm&Mgmt    Yes     59.0        Mkt&Fin  69.72  Placed  295000.0  \n",
       "213  Comm&Mgmt     No     70.0         Mkt&HR  60.23  Placed  204000.0  \n",
       "\n",
       "[148 rows x 15 columns]"
      ]
     },
     "execution_count": 14,
     "metadata": {},
     "output_type": "execute_result"
    }
   ],
   "source": [
    "placement_data"
   ]
  },
  {
   "cell_type": "code",
   "execution_count": 15,
   "id": "7f99bfa1",
   "metadata": {},
   "outputs": [],
   "source": [
    "descriptive_placement=pd.DataFrame(index=[\"Mean\"],columns=quan)\n",
    "for columnName in quan:\n",
    "    descriptive_placement[columnName][\"Mean\"]=placement_data[columnName].mean()\n",
    "    "
   ]
  },
  {
   "cell_type": "code",
   "execution_count": 16,
   "id": "77e433ac",
   "metadata": {},
   "outputs": [
    {
     "data": {
      "text/html": [
       "<div>\n",
       "<style scoped>\n",
       "    .dataframe tbody tr th:only-of-type {\n",
       "        vertical-align: middle;\n",
       "    }\n",
       "\n",
       "    .dataframe tbody tr th {\n",
       "        vertical-align: top;\n",
       "    }\n",
       "\n",
       "    .dataframe thead th {\n",
       "        text-align: right;\n",
       "    }\n",
       "</style>\n",
       "<table border=\"1\" class=\"dataframe\">\n",
       "  <thead>\n",
       "    <tr style=\"text-align: right;\">\n",
       "      <th></th>\n",
       "      <th>sl_no</th>\n",
       "      <th>ssc_p</th>\n",
       "      <th>hsc_p</th>\n",
       "      <th>degree_p</th>\n",
       "      <th>etest_p</th>\n",
       "      <th>mba_p</th>\n",
       "      <th>salary</th>\n",
       "    </tr>\n",
       "  </thead>\n",
       "  <tbody>\n",
       "    <tr>\n",
       "      <th>Mean</th>\n",
       "      <td>106.878</td>\n",
       "      <td>71.7215</td>\n",
       "      <td>69.9266</td>\n",
       "      <td>68.7405</td>\n",
       "      <td>73.238</td>\n",
       "      <td>62.5794</td>\n",
       "      <td>288655</td>\n",
       "    </tr>\n",
       "  </tbody>\n",
       "</table>\n",
       "</div>"
      ],
      "text/plain": [
       "        sl_no    ssc_p    hsc_p degree_p etest_p    mba_p  salary\n",
       "Mean  106.878  71.7215  69.9266  68.7405  73.238  62.5794  288655"
      ]
     },
     "execution_count": 16,
     "metadata": {},
     "output_type": "execute_result"
    }
   ],
   "source": [
    "descriptive_placement"
   ]
  },
  {
   "cell_type": "code",
   "execution_count": 17,
   "id": "7d7c9dfe",
   "metadata": {},
   "outputs": [],
   "source": [
    "descriptive_non_placement=pd.DataFrame(index=[\"Mean\"],columns=quan)\n",
    "for columnName in quan:\n",
    "    descriptive_non_placement[columnName][\"Mean\"]=non_placement_data[columnName].mean()\n",
    "  "
   ]
  },
  {
   "cell_type": "code",
   "execution_count": 18,
   "id": "5f8c5a2d",
   "metadata": {},
   "outputs": [
    {
     "data": {
      "text/html": [
       "<div>\n",
       "<style scoped>\n",
       "    .dataframe tbody tr th:only-of-type {\n",
       "        vertical-align: middle;\n",
       "    }\n",
       "\n",
       "    .dataframe tbody tr th {\n",
       "        vertical-align: top;\n",
       "    }\n",
       "\n",
       "    .dataframe thead th {\n",
       "        text-align: right;\n",
       "    }\n",
       "</style>\n",
       "<table border=\"1\" class=\"dataframe\">\n",
       "  <thead>\n",
       "    <tr style=\"text-align: right;\">\n",
       "      <th></th>\n",
       "      <th>sl_no</th>\n",
       "      <th>ssc_p</th>\n",
       "      <th>hsc_p</th>\n",
       "      <th>degree_p</th>\n",
       "      <th>etest_p</th>\n",
       "      <th>mba_p</th>\n",
       "      <th>salary</th>\n",
       "    </tr>\n",
       "  </thead>\n",
       "  <tbody>\n",
       "    <tr>\n",
       "      <th>Mean</th>\n",
       "      <td>110.478</td>\n",
       "      <td>57.544</td>\n",
       "      <td>58.3955</td>\n",
       "      <td>61.1342</td>\n",
       "      <td>69.5879</td>\n",
       "      <td>61.6128</td>\n",
       "      <td>0</td>\n",
       "    </tr>\n",
       "  </tbody>\n",
       "</table>\n",
       "</div>"
      ],
      "text/plain": [
       "        sl_no   ssc_p    hsc_p degree_p  etest_p    mba_p salary\n",
       "Mean  110.478  57.544  58.3955  61.1342  69.5879  61.6128      0"
      ]
     },
     "execution_count": 18,
     "metadata": {},
     "output_type": "execute_result"
    }
   ],
   "source": [
    "descriptive_non_placement"
   ]
  },
  {
   "cell_type": "code",
   "execution_count": 19,
   "id": "8073d142",
   "metadata": {},
   "outputs": [],
   "source": [
    "#average taken for both placement and non placement students, students those scored average marks less than 60 percent are not placed"
   ]
  },
  {
   "cell_type": "markdown",
   "id": "97855937",
   "metadata": {},
   "source": [
    "#4) What kind of relation between salary and mba_p?"
   ]
  },
  {
   "cell_type": "code",
   "execution_count": 20,
   "id": "11a8842d",
   "metadata": {},
   "outputs": [
    {
     "data": {
      "text/html": [
       "<div>\n",
       "<style scoped>\n",
       "    .dataframe tbody tr th:only-of-type {\n",
       "        vertical-align: middle;\n",
       "    }\n",
       "\n",
       "    .dataframe tbody tr th {\n",
       "        vertical-align: top;\n",
       "    }\n",
       "\n",
       "    .dataframe thead th {\n",
       "        text-align: right;\n",
       "    }\n",
       "</style>\n",
       "<table border=\"1\" class=\"dataframe\">\n",
       "  <thead>\n",
       "    <tr style=\"text-align: right;\">\n",
       "      <th></th>\n",
       "      <th>sl_no</th>\n",
       "      <th>ssc_p</th>\n",
       "      <th>hsc_p</th>\n",
       "      <th>degree_p</th>\n",
       "      <th>etest_p</th>\n",
       "      <th>mba_p</th>\n",
       "      <th>salary</th>\n",
       "    </tr>\n",
       "  </thead>\n",
       "  <tbody>\n",
       "    <tr>\n",
       "      <th>sl_no</th>\n",
       "      <td>1.000000</td>\n",
       "      <td>-0.078155</td>\n",
       "      <td>-0.085711</td>\n",
       "      <td>-0.088281</td>\n",
       "      <td>0.063636</td>\n",
       "      <td>0.022327</td>\n",
       "      <td>0.002543</td>\n",
       "    </tr>\n",
       "    <tr>\n",
       "      <th>ssc_p</th>\n",
       "      <td>-0.078155</td>\n",
       "      <td>1.000000</td>\n",
       "      <td>0.511472</td>\n",
       "      <td>0.538404</td>\n",
       "      <td>0.261993</td>\n",
       "      <td>0.388478</td>\n",
       "      <td>0.538090</td>\n",
       "    </tr>\n",
       "    <tr>\n",
       "      <th>hsc_p</th>\n",
       "      <td>-0.085711</td>\n",
       "      <td>0.511472</td>\n",
       "      <td>1.000000</td>\n",
       "      <td>0.434206</td>\n",
       "      <td>0.245113</td>\n",
       "      <td>0.354823</td>\n",
       "      <td>0.452569</td>\n",
       "    </tr>\n",
       "    <tr>\n",
       "      <th>degree_p</th>\n",
       "      <td>-0.088281</td>\n",
       "      <td>0.538404</td>\n",
       "      <td>0.434206</td>\n",
       "      <td>1.000000</td>\n",
       "      <td>0.224470</td>\n",
       "      <td>0.402364</td>\n",
       "      <td>0.408371</td>\n",
       "    </tr>\n",
       "    <tr>\n",
       "      <th>etest_p</th>\n",
       "      <td>0.063636</td>\n",
       "      <td>0.261993</td>\n",
       "      <td>0.245113</td>\n",
       "      <td>0.224470</td>\n",
       "      <td>1.000000</td>\n",
       "      <td>0.218055</td>\n",
       "      <td>0.186988</td>\n",
       "    </tr>\n",
       "    <tr>\n",
       "      <th>mba_p</th>\n",
       "      <td>0.022327</td>\n",
       "      <td>0.388478</td>\n",
       "      <td>0.354823</td>\n",
       "      <td>0.402364</td>\n",
       "      <td>0.218055</td>\n",
       "      <td>1.000000</td>\n",
       "      <td>0.139823</td>\n",
       "    </tr>\n",
       "    <tr>\n",
       "      <th>salary</th>\n",
       "      <td>0.002543</td>\n",
       "      <td>0.538090</td>\n",
       "      <td>0.452569</td>\n",
       "      <td>0.408371</td>\n",
       "      <td>0.186988</td>\n",
       "      <td>0.139823</td>\n",
       "      <td>1.000000</td>\n",
       "    </tr>\n",
       "  </tbody>\n",
       "</table>\n",
       "</div>"
      ],
      "text/plain": [
       "             sl_no     ssc_p     hsc_p  degree_p   etest_p     mba_p    salary\n",
       "sl_no     1.000000 -0.078155 -0.085711 -0.088281  0.063636  0.022327  0.002543\n",
       "ssc_p    -0.078155  1.000000  0.511472  0.538404  0.261993  0.388478  0.538090\n",
       "hsc_p    -0.085711  0.511472  1.000000  0.434206  0.245113  0.354823  0.452569\n",
       "degree_p -0.088281  0.538404  0.434206  1.000000  0.224470  0.402364  0.408371\n",
       "etest_p   0.063636  0.261993  0.245113  0.224470  1.000000  0.218055  0.186988\n",
       "mba_p     0.022327  0.388478  0.354823  0.402364  0.218055  1.000000  0.139823\n",
       "salary    0.002543  0.538090  0.452569  0.408371  0.186988  0.139823  1.000000"
      ]
     },
     "execution_count": 20,
     "metadata": {},
     "output_type": "execute_result"
    }
   ],
   "source": [
    "dataset.corr()"
   ]
  },
  {
   "cell_type": "markdown",
   "id": "a7ea80bf",
   "metadata": {},
   "source": [
    "Relation between salary and mba_p is directly proportional\n",
    "\n",
    "correlation of mba_p marks and salary is 0.13, which is low degree of positive correlation 13% directly proportional"
   ]
  },
  {
   "cell_type": "markdown",
   "id": "790d8cb5",
   "metadata": {},
   "source": [
    " positive correlation"
   ]
  },
  {
   "cell_type": "markdown",
   "id": "75ff5dbf",
   "metadata": {},
   "source": [
    "#5) which specialization is getting minimum salary?"
   ]
  },
  {
   "cell_type": "code",
   "execution_count": 21,
   "id": "cafb9292",
   "metadata": {},
   "outputs": [
    {
     "data": {
      "text/plain": [
       "Mkt&Fin    120\n",
       "Mkt&HR      95\n",
       "Name: specialisation, dtype: int64"
      ]
     },
     "execution_count": 21,
     "metadata": {},
     "output_type": "execute_result"
    }
   ],
   "source": [
    "dataset[\"specialisation\"].value_counts()"
   ]
  },
  {
   "cell_type": "code",
   "execution_count": 22,
   "id": "a2116b3a",
   "metadata": {},
   "outputs": [],
   "source": [
    "Mkt_fin= dataset[dataset['specialisation'] == 'Mkt&Fin'].mean()"
   ]
  },
  {
   "cell_type": "code",
   "execution_count": 23,
   "id": "9252fffa",
   "metadata": {},
   "outputs": [
    {
     "data": {
      "text/plain": [
       "sl_no          105.425000\n",
       "ssc_p           68.961667\n",
       "hsc_p           68.670583\n",
       "degree_p        67.796083\n",
       "etest_p         74.885500\n",
       "mba_p           62.825667\n",
       "salary      236591.666667\n",
       "dtype: float64"
      ]
     },
     "execution_count": 23,
     "metadata": {},
     "output_type": "execute_result"
    }
   ],
   "source": [
    "Mkt_fin"
   ]
  },
  {
   "cell_type": "code",
   "execution_count": 24,
   "id": "4790df33",
   "metadata": {},
   "outputs": [],
   "source": [
    "Mkt_HR= dataset[dataset['specialisation'] == 'Mkt&HR'].mean()"
   ]
  },
  {
   "cell_type": "code",
   "execution_count": 25,
   "id": "5e7329ea",
   "metadata": {},
   "outputs": [
    {
     "data": {
      "text/plain": [
       "sl_no          111.252632\n",
       "ssc_p           65.208737\n",
       "hsc_p           63.380632\n",
       "degree_p        64.569053\n",
       "etest_p         68.582737\n",
       "mba_p           61.586632\n",
       "salary      150842.105263\n",
       "dtype: float64"
      ]
     },
     "execution_count": 25,
     "metadata": {},
     "output_type": "execute_result"
    }
   ],
   "source": [
    "Mkt_HR"
   ]
  },
  {
   "cell_type": "markdown",
   "id": "e3844f46",
   "metadata": {},
   "source": [
    "Mean of Mkt&HR salary is lower than Mkt_fin, So Marketing and HR specialisation is getting minimum salary"
   ]
  },
  {
   "cell_type": "code",
   "execution_count": 26,
   "id": "2477bc9c",
   "metadata": {},
   "outputs": [],
   "source": [
    "#2nd method for minimum getting salary\n",
    "descriptive=pd.DataFrame(index=[\"Mean\",\"Median\",\"Mode\",\"Q1:25%\",\"Q2:50%\",\"Q3:75%\",\"Q4:100%\",\"IQR\",\"1.5rule\",\"Lesser\",\"Greater\",\n",
    "                                \"Min\",\"Max\"],columns=quan)\n",
    "for columnName in quan:\n",
    "    descriptive[columnName][\"Mean\"]=placement_data[columnName].mean()\n",
    "    descriptive[columnName][\"Median\"]=placement_data[columnName].median()\n",
    "    descriptive[columnName][\"Mode\"]=placement_data[columnName].mode()[0]\n",
    "    descriptive[columnName][\"Q1:25%\"]=placement_data.describe()[columnName][\"25%\"]\n",
    "    descriptive[columnName][\"Q2:50%\"]=placement_data.describe()[columnName][\"50%\"]\n",
    "    descriptive[columnName][\"Q3:75%\"]=placement_data.describe()[columnName][\"75%\"]\n",
    "    descriptive[columnName][\"Q4:100%\"]=placement_data.describe()[columnName][\"max\"]\n",
    "    descriptive[columnName][\"IQR\"]=descriptive[columnName][\"Q3:75%\"] - descriptive[columnName][\"Q1:25%\"]\n",
    "    descriptive[columnName][\"1.5rule\"]=1.5*descriptive[columnName][\"IQR\"]\n",
    "    descriptive[columnName][\"Lesser\"]=descriptive[columnName][\"Q1:25%\"]-descriptive[columnName][\"1.5rule\"]\n",
    "    descriptive[columnName][\"Greater\"]=descriptive[columnName][\"Q3:75%\"]+descriptive[columnName][\"1.5rule\"]\n",
    "    descriptive[columnName][\"Min\"]=placement_data[columnName].min()\n",
    "    descriptive[columnName][\"Max\"]=placement_data[columnName].max()\n",
    "    "
   ]
  },
  {
   "cell_type": "code",
   "execution_count": 27,
   "id": "04ca631b",
   "metadata": {},
   "outputs": [
    {
     "data": {
      "text/html": [
       "<div>\n",
       "<style scoped>\n",
       "    .dataframe tbody tr th:only-of-type {\n",
       "        vertical-align: middle;\n",
       "    }\n",
       "\n",
       "    .dataframe tbody tr th {\n",
       "        vertical-align: top;\n",
       "    }\n",
       "\n",
       "    .dataframe thead th {\n",
       "        text-align: right;\n",
       "    }\n",
       "</style>\n",
       "<table border=\"1\" class=\"dataframe\">\n",
       "  <thead>\n",
       "    <tr style=\"text-align: right;\">\n",
       "      <th></th>\n",
       "      <th>sl_no</th>\n",
       "      <th>ssc_p</th>\n",
       "      <th>hsc_p</th>\n",
       "      <th>degree_p</th>\n",
       "      <th>etest_p</th>\n",
       "      <th>mba_p</th>\n",
       "      <th>salary</th>\n",
       "    </tr>\n",
       "  </thead>\n",
       "  <tbody>\n",
       "    <tr>\n",
       "      <th>Mean</th>\n",
       "      <td>106.878</td>\n",
       "      <td>71.7215</td>\n",
       "      <td>69.9266</td>\n",
       "      <td>68.7405</td>\n",
       "      <td>73.238</td>\n",
       "      <td>62.5794</td>\n",
       "      <td>288655</td>\n",
       "    </tr>\n",
       "    <tr>\n",
       "      <th>Median</th>\n",
       "      <td>108.5</td>\n",
       "      <td>72.5</td>\n",
       "      <td>68</td>\n",
       "      <td>68</td>\n",
       "      <td>72</td>\n",
       "      <td>62.245</td>\n",
       "      <td>265000</td>\n",
       "    </tr>\n",
       "    <tr>\n",
       "      <th>Mode</th>\n",
       "      <td>1</td>\n",
       "      <td>73</td>\n",
       "      <td>63</td>\n",
       "      <td>65</td>\n",
       "      <td>60</td>\n",
       "      <td>56.7</td>\n",
       "      <td>300000</td>\n",
       "    </tr>\n",
       "    <tr>\n",
       "      <th>Q1:25%</th>\n",
       "      <td>57.75</td>\n",
       "      <td>65</td>\n",
       "      <td>63</td>\n",
       "      <td>65</td>\n",
       "      <td>60</td>\n",
       "      <td>57.7725</td>\n",
       "      <td>240000</td>\n",
       "    </tr>\n",
       "    <tr>\n",
       "      <th>Q2:50%</th>\n",
       "      <td>108.5</td>\n",
       "      <td>72.5</td>\n",
       "      <td>68</td>\n",
       "      <td>68</td>\n",
       "      <td>72</td>\n",
       "      <td>62.245</td>\n",
       "      <td>265000</td>\n",
       "    </tr>\n",
       "    <tr>\n",
       "      <th>Q3:75%</th>\n",
       "      <td>153.25</td>\n",
       "      <td>78.125</td>\n",
       "      <td>75.25</td>\n",
       "      <td>72.4225</td>\n",
       "      <td>85</td>\n",
       "      <td>66.76</td>\n",
       "      <td>300000</td>\n",
       "    </tr>\n",
       "    <tr>\n",
       "      <th>Q4:100%</th>\n",
       "      <td>214</td>\n",
       "      <td>89.4</td>\n",
       "      <td>97.7</td>\n",
       "      <td>91</td>\n",
       "      <td>98</td>\n",
       "      <td>77.89</td>\n",
       "      <td>940000</td>\n",
       "    </tr>\n",
       "    <tr>\n",
       "      <th>IQR</th>\n",
       "      <td>95.5</td>\n",
       "      <td>13.125</td>\n",
       "      <td>12.25</td>\n",
       "      <td>7.4225</td>\n",
       "      <td>25</td>\n",
       "      <td>8.9875</td>\n",
       "      <td>60000</td>\n",
       "    </tr>\n",
       "    <tr>\n",
       "      <th>1.5rule</th>\n",
       "      <td>143.25</td>\n",
       "      <td>19.6875</td>\n",
       "      <td>18.375</td>\n",
       "      <td>11.1337</td>\n",
       "      <td>37.5</td>\n",
       "      <td>13.4812</td>\n",
       "      <td>90000</td>\n",
       "    </tr>\n",
       "    <tr>\n",
       "      <th>Lesser</th>\n",
       "      <td>-85.5</td>\n",
       "      <td>45.3125</td>\n",
       "      <td>44.625</td>\n",
       "      <td>53.8663</td>\n",
       "      <td>22.5</td>\n",
       "      <td>44.2912</td>\n",
       "      <td>150000</td>\n",
       "    </tr>\n",
       "    <tr>\n",
       "      <th>Greater</th>\n",
       "      <td>296.5</td>\n",
       "      <td>97.8125</td>\n",
       "      <td>93.625</td>\n",
       "      <td>83.5563</td>\n",
       "      <td>122.5</td>\n",
       "      <td>80.2412</td>\n",
       "      <td>390000</td>\n",
       "    </tr>\n",
       "    <tr>\n",
       "      <th>Min</th>\n",
       "      <td>1</td>\n",
       "      <td>49</td>\n",
       "      <td>50.83</td>\n",
       "      <td>56</td>\n",
       "      <td>50</td>\n",
       "      <td>52.38</td>\n",
       "      <td>200000</td>\n",
       "    </tr>\n",
       "    <tr>\n",
       "      <th>Max</th>\n",
       "      <td>214</td>\n",
       "      <td>89.4</td>\n",
       "      <td>97.7</td>\n",
       "      <td>91</td>\n",
       "      <td>98</td>\n",
       "      <td>77.89</td>\n",
       "      <td>940000</td>\n",
       "    </tr>\n",
       "  </tbody>\n",
       "</table>\n",
       "</div>"
      ],
      "text/plain": [
       "           sl_no    ssc_p    hsc_p degree_p etest_p    mba_p  salary\n",
       "Mean     106.878  71.7215  69.9266  68.7405  73.238  62.5794  288655\n",
       "Median     108.5     72.5       68       68      72   62.245  265000\n",
       "Mode           1       73       63       65      60     56.7  300000\n",
       "Q1:25%     57.75       65       63       65      60  57.7725  240000\n",
       "Q2:50%     108.5     72.5       68       68      72   62.245  265000\n",
       "Q3:75%    153.25   78.125    75.25  72.4225      85    66.76  300000\n",
       "Q4:100%      214     89.4     97.7       91      98    77.89  940000\n",
       "IQR         95.5   13.125    12.25   7.4225      25   8.9875   60000\n",
       "1.5rule   143.25  19.6875   18.375  11.1337    37.5  13.4812   90000\n",
       "Lesser     -85.5  45.3125   44.625  53.8663    22.5  44.2912  150000\n",
       "Greater    296.5  97.8125   93.625  83.5563   122.5  80.2412  390000\n",
       "Min            1       49    50.83       56      50    52.38  200000\n",
       "Max          214     89.4     97.7       91      98    77.89  940000"
      ]
     },
     "execution_count": 27,
     "metadata": {},
     "output_type": "execute_result"
    }
   ],
   "source": [
    "descriptive"
   ]
  },
  {
   "cell_type": "markdown",
   "id": "8c8ed7b4",
   "metadata": {},
   "source": [
    "overall minimum getting salary is 200000"
   ]
  },
  {
   "cell_type": "markdown",
   "id": "a56e10f3",
   "metadata": {},
   "source": [
    "#6) How many of them getting above 500000 salary?"
   ]
  },
  {
   "cell_type": "code",
   "execution_count": 28,
   "id": "ddd83015",
   "metadata": {},
   "outputs": [],
   "source": [
    "def fiveLsalary(dataset):\n",
    "    for i in dataset['salary']:\n",
    "        if(i>500000):\n",
    "            print('Students getting salary above 5L:',i)"
   ]
  },
  {
   "cell_type": "code",
   "execution_count": 29,
   "id": "c91d0d50",
   "metadata": {},
   "outputs": [
    {
     "name": "stdout",
     "output_type": "stream",
     "text": [
      "Students getting salary above 5L: 940000.0\n",
      "Students getting salary above 5L: 690000.0\n",
      "Students getting salary above 5L: 650000.0\n"
     ]
    }
   ],
   "source": [
    "fiveLsalary(dataset)"
   ]
  },
  {
   "cell_type": "markdown",
   "id": "5eee7e60",
   "metadata": {},
   "source": [
    "Three of them getting above five lakhs salary"
   ]
  },
  {
   "cell_type": "markdown",
   "id": "aae97bf5",
   "metadata": {},
   "source": [
    "#7) Test the analysis of variance between etest_p and mba_p at significance level 5% (make decision using hypothesis testing )"
   ]
  },
  {
   "cell_type": "code",
   "execution_count": 30,
   "id": "fc404717",
   "metadata": {},
   "outputs": [
    {
     "data": {
      "text/plain": [
       "F_onewayResult(statistic=98.64487057324706, pvalue=4.672547689133573e-21)"
      ]
     },
     "execution_count": 30,
     "metadata": {},
     "output_type": "execute_result"
    }
   ],
   "source": [
    "#One independent variable\n",
    "import scipy.stats as stats\n",
    "stats.f_oneway(dataset['etest_p'],dataset['mba_p'])"
   ]
  },
  {
   "cell_type": "markdown",
   "id": "c679db4e",
   "metadata": {},
   "source": [
    "p value is greater than 0.05 so accepting null hypothesis H0- There is no significant difference between these columns"
   ]
  },
  {
   "cell_type": "markdown",
   "id": "299f7aa2",
   "metadata": {},
   "source": [
    "#8) Test the similarity between degree_t(Sci&Tech) and specialisation(Mkt&HR) with respect to salary at significance level of5%\n",
    "(Make decision using hypothesis testing)"
   ]
  },
  {
   "cell_type": "code",
   "execution_count": 31,
   "id": "9e823de1",
   "metadata": {},
   "outputs": [
    {
     "data": {
      "text/plain": [
       "Ttest_indResult(statistic=2.692041243555374, pvalue=0.007897969943471179)"
      ]
     },
     "execution_count": 31,
     "metadata": {},
     "output_type": "execute_result"
    }
   ],
   "source": [
    "from scipy.stats import ttest_ind\n",
    "dataset=dataset.dropna()\n",
    "Sci_Tech=dataset[dataset['degree_t']=='Sci&Tech']['salary']\n",
    "Mkt_HR=dataset[dataset['specialisation']=='Mkt&HR']['salary']\n",
    "ttest_ind(Sci_Tech,Mkt_HR)"
   ]
  },
  {
   "cell_type": "markdown",
   "id": "e18ba116",
   "metadata": {},
   "source": [
    "Lesser the statistic value higher the similarity; pvalue should be less than five percentage;\n",
    "so in this case , salary of both Sci_Tech and Mkt_HR shows high similarity\n",
    "\n",
    "p value is lesser than 0.05 so rejecting null hypothesis and accepting alternate hypothesis H1\n",
    "Alternate hypothesis H1 - There is similarity between Sci_Tech and Mkt_HR and also there is significant difference "
   ]
  },
  {
   "cell_type": "markdown",
   "id": "898373d6",
   "metadata": {},
   "source": [
    "#9) Convert the normal distribution to standard normal distribution for salary column"
   ]
  },
  {
   "cell_type": "markdown",
   "id": "fb1b16f0",
   "metadata": {},
   "source": [
    "we can convert the normal distribution to standard normal distribution by using z-score; standard normal distribution always have value mean=0 and std=1 like wise the graph of standard normal distribution is plotted; z-score=((x-mu)/sigma)\n",
    "where x is observation\n",
    "mu is mean and\n",
    "sigma is standard deviation"
   ]
  },
  {
   "cell_type": "code",
   "execution_count": 32,
   "id": "4c49d5bc",
   "metadata": {},
   "outputs": [],
   "source": [
    "def StdNBgraph(dataset):\n",
    "    import seaborn as sns\n",
    "    mean=dataset.mean()\n",
    "    std=dataset.std()\n",
    "    values=[i for i in dataset]\n",
    "    z_score=[((j-mean)/std) for j in values]\n",
    "    sns.distplot(z_score,kde=True)\n",
    "    sum(z_score)/len(z_score)"
   ]
  },
  {
   "cell_type": "code",
   "execution_count": 33,
   "id": "b5ff5784",
   "metadata": {},
   "outputs": [
    {
     "name": "stderr",
     "output_type": "stream",
     "text": [
      "C:\\Users\\abina\\Anac\\envs\\aiml\\lib\\site-packages\\ipykernel_launcher.py:7: UserWarning: \n",
      "\n",
      "`distplot` is a deprecated function and will be removed in seaborn v0.14.0.\n",
      "\n",
      "Please adapt your code to use either `displot` (a figure-level function with\n",
      "similar flexibility) or `histplot` (an axes-level function for histograms).\n",
      "\n",
      "For a guide to updating your code to use the new functions, please see\n",
      "https://gist.github.com/mwaskom/de44147ed2974457ad6372750bbe5751\n",
      "\n",
      "  import sys\n"
     ]
    },
    {
     "data": {
      "image/png": "[encoded data removed]",
      "text/plain": [
       "<Figure size 640x480 with 1 Axes>"
      ]
     },
     "metadata": {},
     "output_type": "display_data"
    }
   ],
   "source": [
    "StdNBgraph(dataset['salary'])"
   ]
  },
  {
   "cell_type": "markdown",
   "id": "814c73b5",
   "metadata": {},
   "source": [
    "#10) What is the probability Density function of the salary range from 700000 to 900000?"
   ]
  },
  {
   "cell_type": "code",
   "execution_count": 34,
   "id": "06adec21",
   "metadata": {},
   "outputs": [],
   "source": [
    "def get_pdf_prob(dataset,startrange,endrange):\n",
    "    from matplotlib import pyplot\n",
    "    from scipy.stats import norm\n",
    "    import seaborn as sns\n",
    "    ax=sns.distplot(dataset,kde=True,kde_kws={'color':'pink'},color='yellow')\n",
    "    pyplot.axvline(startrange,color='green')\n",
    "    pyplot.axvline(endrange,color='green')\n",
    "    \n",
    "    #generate a sample\n",
    "    sample=dataset\n",
    "    #calculate parameters\n",
    "    sample_mean=sample.mean()\n",
    "    sample_std=sample.std()\n",
    "    print('mean=%.3f, standard deviation=%.3f' %(sample_mean,sample_std))\n",
    "    \n",
    "    #define the distribution\n",
    "    dist=norm(sample_mean,sample_std)\n",
    "    #sample probabilities for a range of outcomes\n",
    "    values=[value for value in range(startrange,endrange)]\n",
    "    probabilities=[dist.pdf(value) for value in values]\n",
    "    prob=sum(probabilities)\n",
    "    \n",
    "    print(\"The area between range ({},{}):{}\".format(startrange,endrange,sum(probabilities)))\n",
    "    return prob"
   ]
  },
  {
   "cell_type": "code",
   "execution_count": 35,
   "id": "2056e3e6",
   "metadata": {},
   "outputs": [
    {
     "name": "stderr",
     "output_type": "stream",
     "text": [
      "C:\\Users\\abina\\Anac\\envs\\aiml\\lib\\site-packages\\ipykernel_launcher.py:5: UserWarning: \n",
      "\n",
      "`distplot` is a deprecated function and will be removed in seaborn v0.14.0.\n",
      "\n",
      "Please adapt your code to use either `displot` (a figure-level function with\n",
      "similar flexibility) or `histplot` (an axes-level function for histograms).\n",
      "\n",
      "For a guide to updating your code to use the new functions, please see\n",
      "https://gist.github.com/mwaskom/de44147ed2974457ad6372750bbe5751\n",
      "\n",
      "  \"\"\"\n"
     ]
    },
    {
     "name": "stdout",
     "output_type": "stream",
     "text": [
      "mean=198702.326, standard deviation=154780.927\n",
      "The area between range (700000,900000):0.0005973310593974868\n"
     ]
    },
    {
     "data": {
      "text/plain": [
       "0.0005973310593974868"
      ]
     },
     "execution_count": 35,
     "metadata": {},
     "output_type": "execute_result"
    },
    {
     "data": {
      "image/png": "[encoded data removed]",
      "text/plain": [
       "<Figure size 640x480 with 1 Axes>"
      ]
     },
     "metadata": {},
     "output_type": "display_data"
    }
   ],
   "source": [
    "get_pdf_prob(dataset['salary'],700000,900000)"
   ]
  },
  {
   "cell_type": "markdown",
   "id": "61ef3a9e",
   "metadata": {},
   "source": [
    "probability Density function of the salary range from 700000 to 900000 is 0.00475865"
   ]
  },
  {
   "cell_type": "markdown",
   "id": "270e926e",
   "metadata": {},
   "source": [
    "#11) Test the similarity between the degree_t(Sci&Tech) with respect to etest_p and mba_p with respect to salary at significance level of 5%(Make decision using hypothesis testing)"
   ]
  },
  {
   "cell_type": "markdown",
   "id": "fb1d307d",
   "metadata": {},
   "source": [
    "Same group (Sci&Tech)but different condition( etest_p and mba_p) -Dependent which is paired ttest"
   ]
  },
  {
   "cell_type": "code",
   "execution_count": 36,
   "id": "c2362d01",
   "metadata": {},
   "outputs": [
    {
     "data": {
      "text/plain": [
       "Ttest_relResult(statistic=5.0049844583693615, pvalue=5.517920600505392e-06)"
      ]
     },
     "execution_count": 36,
     "metadata": {},
     "output_type": "execute_result"
    }
   ],
   "source": [
    "from scipy.stats import ttest_rel\n",
    "#dataset=dataset.dropna()\n",
    "etest_p=dataset[dataset['degree_t']=='Sci&Tech']['etest_p']\n",
    "mba_p=dataset[dataset['degree_t']=='Sci&Tech']['mba_p']\n",
    "ttest_rel(etest_p,mba_p)"
   ]
  },
  {
   "cell_type": "markdown",
   "id": "f6807ce5",
   "metadata": {},
   "source": [
    "lesser the statistic value higher the similarity \n",
    "pvalue is >0.05 so accepting hull hypothesis - There is no similarity between etest_p and mba_p"
   ]
  },
  {
   "cell_type": "markdown",
   "id": "491f23d8",
   "metadata": {},
   "source": [
    "#12)Which parameter is highly correlated with salary?"
   ]
  },
  {
   "cell_type": "code",
   "execution_count": 37,
   "id": "2593b80a",
   "metadata": {},
   "outputs": [
    {
     "data": {
      "text/html": [
       "<div>\n",
       "<style scoped>\n",
       "    .dataframe tbody tr th:only-of-type {\n",
       "        vertical-align: middle;\n",
       "    }\n",
       "\n",
       "    .dataframe tbody tr th {\n",
       "        vertical-align: top;\n",
       "    }\n",
       "\n",
       "    .dataframe thead th {\n",
       "        text-align: right;\n",
       "    }\n",
       "</style>\n",
       "<table border=\"1\" class=\"dataframe\">\n",
       "  <thead>\n",
       "    <tr style=\"text-align: right;\">\n",
       "      <th></th>\n",
       "      <th>sl_no</th>\n",
       "      <th>ssc_p</th>\n",
       "      <th>hsc_p</th>\n",
       "      <th>degree_p</th>\n",
       "      <th>etest_p</th>\n",
       "      <th>mba_p</th>\n",
       "      <th>salary</th>\n",
       "    </tr>\n",
       "  </thead>\n",
       "  <tbody>\n",
       "    <tr>\n",
       "      <th>sl_no</th>\n",
       "      <td>1.000000</td>\n",
       "      <td>-0.078155</td>\n",
       "      <td>-0.085711</td>\n",
       "      <td>-0.088281</td>\n",
       "      <td>0.063636</td>\n",
       "      <td>0.022327</td>\n",
       "      <td>0.002543</td>\n",
       "    </tr>\n",
       "    <tr>\n",
       "      <th>ssc_p</th>\n",
       "      <td>-0.078155</td>\n",
       "      <td>1.000000</td>\n",
       "      <td>0.511472</td>\n",
       "      <td>0.538404</td>\n",
       "      <td>0.261993</td>\n",
       "      <td>0.388478</td>\n",
       "      <td>0.538090</td>\n",
       "    </tr>\n",
       "    <tr>\n",
       "      <th>hsc_p</th>\n",
       "      <td>-0.085711</td>\n",
       "      <td>0.511472</td>\n",
       "      <td>1.000000</td>\n",
       "      <td>0.434206</td>\n",
       "      <td>0.245113</td>\n",
       "      <td>0.354823</td>\n",
       "      <td>0.452569</td>\n",
       "    </tr>\n",
       "    <tr>\n",
       "      <th>degree_p</th>\n",
       "      <td>-0.088281</td>\n",
       "      <td>0.538404</td>\n",
       "      <td>0.434206</td>\n",
       "      <td>1.000000</td>\n",
       "      <td>0.224470</td>\n",
       "      <td>0.402364</td>\n",
       "      <td>0.408371</td>\n",
       "    </tr>\n",
       "    <tr>\n",
       "      <th>etest_p</th>\n",
       "      <td>0.063636</td>\n",
       "      <td>0.261993</td>\n",
       "      <td>0.245113</td>\n",
       "      <td>0.224470</td>\n",
       "      <td>1.000000</td>\n",
       "      <td>0.218055</td>\n",
       "      <td>0.186988</td>\n",
       "    </tr>\n",
       "    <tr>\n",
       "      <th>mba_p</th>\n",
       "      <td>0.022327</td>\n",
       "      <td>0.388478</td>\n",
       "      <td>0.354823</td>\n",
       "      <td>0.402364</td>\n",
       "      <td>0.218055</td>\n",
       "      <td>1.000000</td>\n",
       "      <td>0.139823</td>\n",
       "    </tr>\n",
       "    <tr>\n",
       "      <th>salary</th>\n",
       "      <td>0.002543</td>\n",
       "      <td>0.538090</td>\n",
       "      <td>0.452569</td>\n",
       "      <td>0.408371</td>\n",
       "      <td>0.186988</td>\n",
       "      <td>0.139823</td>\n",
       "      <td>1.000000</td>\n",
       "    </tr>\n",
       "  </tbody>\n",
       "</table>\n",
       "</div>"
      ],
      "text/plain": [
       "             sl_no     ssc_p     hsc_p  degree_p   etest_p     mba_p    salary\n",
       "sl_no     1.000000 -0.078155 -0.085711 -0.088281  0.063636  0.022327  0.002543\n",
       "ssc_p    -0.078155  1.000000  0.511472  0.538404  0.261993  0.388478  0.538090\n",
       "hsc_p    -0.085711  0.511472  1.000000  0.434206  0.245113  0.354823  0.452569\n",
       "degree_p -0.088281  0.538404  0.434206  1.000000  0.224470  0.402364  0.408371\n",
       "etest_p   0.063636  0.261993  0.245113  0.224470  1.000000  0.218055  0.186988\n",
       "mba_p     0.022327  0.388478  0.354823  0.402364  0.218055  1.000000  0.139823\n",
       "salary    0.002543  0.538090  0.452569  0.408371  0.186988  0.139823  1.000000"
      ]
     },
     "execution_count": 37,
     "metadata": {},
     "output_type": "execute_result"
    }
   ],
   "source": [
    "dataset.corr()"
   ]
  },
  {
   "cell_type": "markdown",
   "id": "fb05d900",
   "metadata": {},
   "source": [
    "when comparing the columns with salary, ssc_p is highly correlated at 0.53 \n",
    "which is low degree of positive correlation 53% directly proportional"
   ]
  },
  {
   "cell_type": "markdown",
   "id": "dddb7776",
   "metadata": {},
   "source": [
    " positive correlation"
   ]
  },
  {
   "cell_type": "markdown",
   "id": "640dc33f",
   "metadata": {},
   "source": [
    "#13)plot any useful graph and explain it"
   ]
  },
  {
   "cell_type": "code",
   "execution_count": 38,
   "id": "63ba4592",
   "metadata": {},
   "outputs": [
    {
     "data": {
      "image/png": "[encoded data removed]",
      "text/plain": [
       "<Figure size 800x600 with 1 Axes>"
      ]
     },
     "metadata": {},
     "output_type": "display_data"
    }
   ],
   "source": [
    "import matplotlib.pyplot as plt\n",
    "plt.figure(figsize=(8, 6))\n",
    "plt.scatter(placement_data['ssc_p'], placement_data['hsc_p'], color='blue')\n",
    "plt.title('Analysis of ssc and hsc marks of students')\n",
    "plt.xlabel('ssc marks')\n",
    "plt.ylabel('hsc marks')\n",
    "plt.show()"
   ]
  },
  {
   "cell_type": "markdown",
   "id": "3a822fae",
   "metadata": {},
   "source": [
    "Scatterplot shows the relationship between two variables. In a scatter plot, each data point is represented as a dot, with its position on the graph determined by the values of the two variables being plotted"
   ]
  },
  {
   "cell_type": "markdown",
   "id": "2e248950",
   "metadata": {},
   "source": [
    "The analysis of students performance in ssc and hsc were plotted easily through scatter plot graph"
   ]
  },
  {
   "cell_type": "code",
   "execution_count": 40,
   "id": "8aa65688",
   "metadata": {},
   "outputs": [
    {
     "name": "stderr",
     "output_type": "stream",
     "text": [
      "C:\\Users\\abina\\Anac\\envs\\aiml\\lib\\site-packages\\ipykernel_launcher.py:2: UserWarning: \n",
      "\n",
      "`distplot` is a deprecated function and will be removed in seaborn v0.14.0.\n",
      "\n",
      "Please adapt your code to use either `displot` (a figure-level function with\n",
      "similar flexibility) or `histplot` (an axes-level function for histograms).\n",
      "\n",
      "For a guide to updating your code to use the new functions, please see\n",
      "https://gist.github.com/mwaskom/de44147ed2974457ad6372750bbe5751\n",
      "\n",
      "  \n"
     ]
    },
    {
     "data": {
      "image/png": "[encoded data removed]",
      "text/plain": [
       "<Figure size 640x480 with 1 Axes>"
      ]
     },
     "metadata": {},
     "output_type": "display_data"
    }
   ],
   "source": [
    "#univariate analysis\n",
    "import seaborn as sns\n",
    "sns.distplot(dataset['ssc_p'],hist=True, kde= True, kde_kws={'color':'red'})\n",
    "plt.show()"
   ]
  },
  {
   "cell_type": "markdown",
   "id": "b5872d52",
   "metadata": {},
   "source": [
    "    1.Distribution plot of ssc_p marks are plotted in histogram (hist =true)with respect to density because we have mentioned kde=true, kernel density estimation.\n",
    "    2.By passing the parameter kde_kws we are specifying that kde plot should be present in red color"
   ]
  },
  {
   "cell_type": "code",
   "execution_count": 41,
   "id": "1481c747",
   "metadata": {},
   "outputs": [
    {
     "data": {
      "image/png": "[encoded data removed]",
      "text/plain": [
       "<Figure size 600x600 with 3 Axes>"
      ]
     },
     "metadata": {},
     "output_type": "display_data"
    }
   ],
   "source": [
    "#Bivariate analysis\n",
    "sns.jointplot(x='hsc_p',y='salary',data=dataset)\n",
    "plt.show()"
   ]
  },
  {
   "cell_type": "markdown",
   "id": "8f2d5356",
   "metadata": {},
   "source": [
    "    1.In the above jointplot graph , we can easily see both scatter plot and histogram side by side\n",
    "    2.The graph is plotted between hsc_p marks and salary of students, we can easily analysis the salary according to students marks here."
   ]
  },
  {
   "cell_type": "code",
   "execution_count": 42,
   "id": "9fd315de",
   "metadata": {},
   "outputs": [
    {
     "data": {
      "image/png": "[encoded data removed]",
      "text/plain": [
       "<Figure size 600x600 with 3 Axes>"
      ]
     },
     "metadata": {},
     "output_type": "display_data"
    }
   ],
   "source": [
    "sns.jointplot(x='hsc_p',y='salary',data=dataset, kind='hex')\n",
    "plt.show()"
   ]
  },
  {
   "cell_type": "markdown",
   "id": "2ddc6fa2",
   "metadata": {},
   "source": [
    "    1.Here in the above graph we have changed the graph type to hex by giving kind= 'hex';\n",
    "    2.Hex having a concept of heatmap, heatmap is used to visualize the datas easily, when data comes to over repeatation , it is represented by dark shades; we can understand that data is not repeated ,when it is in light shade.\n",
    "    3.The color shade increases or decreases according to the repeatation of data.\n",
    "    4.Both histogram and heatmap is plotted by using jointplot."
   ]
  },
  {
   "cell_type": "code",
   "execution_count": 43,
   "id": "998219df",
   "metadata": {},
   "outputs": [
    {
     "data": {
      "image/png": "[encoded data removed]",
      "text/plain": [
       "<Figure size 640x480 with 1 Axes>"
      ]
     },
     "metadata": {},
     "output_type": "display_data"
    }
   ],
   "source": [
    "#categorical analysis\n",
    "sns.stripplot(x='hsc_b',y='hsc_p',data=dataset)\n",
    "plt.show()"
   ]
  },
  {
   "cell_type": "markdown",
   "id": "4ad6b7b4",
   "metadata": {},
   "source": [
    "    1.Strip plot is used to do analysis between quantitative and qualitative data\n",
    "    2.Here in this graph, we can easily identify the mark ranges of others and central board students marks by using strip  plot.\n",
    "    3.By analysing this graph, others board students performed well in hsc exam than central  board students because others students mark range is more than 90 but in central it ended with below 90."
   ]
  },
  {
   "cell_type": "code",
   "execution_count": 44,
   "id": "7722f266",
   "metadata": {},
   "outputs": [
    {
     "data": {
      "text/plain": [
       "<matplotlib.axes._subplots.AxesSubplot at 0x21efdd7e288>"
      ]
     },
     "execution_count": 44,
     "metadata": {},
     "output_type": "execute_result"
    },
    {
     "data": {
      "image/png": "[encoded data removed]",
      "text/plain": [
       "<Figure size 640x480 with 1 Axes>"
      ]
     },
     "metadata": {},
     "output_type": "display_data"
    }
   ],
   "source": [
    "#boxplot\n",
    "sns.boxplot(x=\"ssc_b\",y=\"ssc_p\",data=dataset,hue='gender')\n",
    "plt.show()"
   ]
  },
  {
   "cell_type": "markdown",
   "id": "87bfa212",
   "metadata": {},
   "source": [
    "    1.Box plot resembles the concept of percentile, the box shaped graph present in between the start range and end range\n",
    "    2.Bottom line of boxplot represents Q1, mid line of box represents Q2, the upper third line is Q3 and end range is Q4\n",
    "    3.In this above graph is plotted between boards of ssc and students marks of ssc.\n",
    "    4.hue=gender is used to different the marks of male and female in others and central.\n",
    "    5.In others, male students mark range is 50 to 90 and female students mark range starts from 45 to 86, so male students performed well.\n",
    "    6.In central board, male students mark range is 42 to 86 and female students mark range starts from 45 to 88, so female students performed well.\n",
    "    7. In overall performance, others board students performed well in ssc than central board students."
   ]
  },
  {
   "cell_type": "code",
   "execution_count": 47,
   "id": "6d8fd639",
   "metadata": {},
   "outputs": [
    {
     "data": {
      "image/png": "[encoded data removed]",
      "text/plain": [
       "<Figure size 640x480 with 1 Axes>"
      ]
     },
     "metadata": {},
     "output_type": "display_data"
    }
   ],
   "source": [
    "#violinplot\n",
    "sns.violinplot(x='specialisation',y='salary',data=dataset,hue='gender')\n",
    "plt.show()"
   ]
  },
  {
   "cell_type": "markdown",
   "id": "d2f79ebf",
   "metadata": {},
   "source": [
    "    1. In violinplot, we can see both density and box plot range between input and output.\n",
    "    2. The above graph is plotted to find which specialisation gets more salary.\n",
    "    3. In Mkt and HR specialisation, salary range of male starts from 0 to 6 lakhs and female starts from 0 to 5 lakhs.\n",
    "    4. In Mkt and Finance specialisation, salary range of male starts from 2 lakhs to 10 lakhs and in female starts from        2 lakhs to 8 lakhs.\n",
    "    5. By analysing the violin plot graph, we can easily conclude that Mkt and Finance specialisation gets more salary than Mkt and HR."
   ]
  },
  {
   "cell_type": "code",
   "execution_count": 49,
   "id": "f8b28182",
   "metadata": {},
   "outputs": [
    {
     "data": {
      "text/plain": [
       "<matplotlib.axes._subplots.AxesSubplot at 0x21efe686308>"
      ]
     },
     "execution_count": 49,
     "metadata": {},
     "output_type": "execute_result"
    },
    {
     "data": {
      "image/png": "[encoded data removed]",
      "text/plain": [
       "<Figure size 640x480 with 1 Axes>"
      ]
     },
     "metadata": {},
     "output_type": "display_data"
    }
   ],
   "source": [
    "sns.countplot(x='ssc_b',data=dataset,hue='gender')"
   ]
  },
  {
   "cell_type": "markdown",
   "id": "67a26d80",
   "metadata": {},
   "source": [
    "    1. count plot represents the count of the datas present in the dataset.\n",
    "    2. The above count plot graph is plotted for ssc board, hue=gender seggregates the male and female count of others and central board \n",
    "    3. count of others board male is 65 and female is 35 .\n",
    "    4. count of central board male is 78 and female is 42."
   ]
  },
  {
   "cell_type": "code",
   "execution_count": null,
   "id": "50f6ec56",
   "metadata": {},
   "outputs": [],
   "source": []
  }
 ],
 "metadata": {
  "kernelspec": {
   "display_name": "Python 3 (ipykernel)",
   "language": "python",
   "name": "python3"
  },
  "language_info": {
   "codemirror_mode": {
    "name": "ipython",
    "version": 3
   },
   "file_extension": ".py",
   "mimetype": "text/x-python",
   "name": "python",
   "nbconvert_exporter": "python",
   "pygments_lexer": "ipython3",
   "version": "3.7.6"
  }
 },
 "nbformat": 4,
 "nbformat_minor": 5
}
